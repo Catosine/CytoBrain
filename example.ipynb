{
 "cells": [
  {
   "attachments": {},
   "cell_type": "markdown",
   "metadata": {},
   "source": [
    "# CNN Extractor + Regressor"
   ]
  },
  {
   "attachments": {},
   "cell_type": "markdown",
   "metadata": {},
   "source": [
    "### Constant"
   ]
  },
  {
   "cell_type": "code",
   "execution_count": null,
   "metadata": {},
   "outputs": [],
   "source": [
    "SUBJ = \"subj01\"\n",
    "DATA_PATH = \"../../data.nosync/{}\".format(SUBJ)\n",
    "EXTRACTOR = \"resnet50-imagenet1k-v2\"\n",
    "LAYER = [\"avgpool\"]"
   ]
  },
  {
   "attachments": {},
   "cell_type": "markdown",
   "metadata": {},
   "source": [
    "## Load data"
   ]
  },
  {
   "cell_type": "code",
   "execution_count": null,
   "metadata": {},
   "outputs": [],
   "source": [
    "from sklearn.model_selection import train_test_split\n",
    "from sklearn.preprocessing import StandardScaler\n",
    "from src import dataset\n",
    "\n",
    "feat, l_frmi, r_frmi = dataset.get_dataset(\n",
    "    DATA_PATH, EXTRACTOR, LAYER, True)\n",
    "\n",
    "# normalize\n",
    "feat = StandardScaler().fit_transform(feat)\n",
    "\n",
    "print(\"Feature Shape: {}\".format(feat.shape))\n",
    "print(\"Left fMRI shape: {}\".format(l_frmi.shape))\n",
    "print(\"Right fMRI shape: {}\".format(r_frmi.shape))\n"
   ]
  },
  {
   "attachments": {},
   "cell_type": "markdown",
   "metadata": {},
   "source": [
    "### Data split"
   ]
  },
  {
   "cell_type": "code",
   "execution_count": null,
   "metadata": {},
   "outputs": [],
   "source": [
    "X_train, X_test, l_fmri_train, l_fmri_test, r_fmri_train, r_fmri_test = train_test_split(\n",
    "    feat, l_frmi, r_frmi, train_size=0.8, random_state=1001)\n",
    "\n",
    "print(\"X_train shape: {}\".format(X_train.shape))\n",
    "print(\"l_fmri_train shape: {}\".format(l_fmri_train.shape))\n",
    "print(\"r_fmri_train shape: {}\".format(r_fmri_train.shape))\n",
    "\n",
    "print()\n",
    "\n",
    "print(\"X_test shape: {}\".format(X_test.shape))\n",
    "print(\"l_fmri_test shape: {}\".format(l_fmri_test.shape))\n",
    "print(\"r_fmri_test shape: {}\".format(r_fmri_test.shape))\n"
   ]
  },
  {
   "attachments": {},
   "cell_type": "markdown",
   "metadata": {},
   "source": [
    "## Modelling"
   ]
  },
  {
   "attachments": {},
   "cell_type": "markdown",
   "metadata": {},
   "source": [
    "### Grid Search"
   ]
  },
  {
   "cell_type": "code",
   "execution_count": null,
   "metadata": {},
   "outputs": [],
   "source": [
    "from sklearn.model_selection import GridSearchCV\n",
    "from sklearn.metrics import make_scorer\n",
    "from sklearn.linear_model import Ridge\n",
    "from src.utils import compute_perason_numpy\n",
    "import numpy as np\n",
    "\n",
    "grid_search_l = GridSearchCV(Ridge(), param_grid={\"alpha\": [1e4, 2e4, 5e4, 1e5]}, scoring=make_scorer(\n",
    "    lambda x, y: np.median(compute_perason_numpy(x, y))), cv=5, n_jobs=5, verbose=1)\n",
    "grid_search_l.fit(X=feat, y=l_frmi)\n",
    "print(\"Best Param: {}\".format(grid_search_l.best_params_))\n",
    "print(\"Best Score: {}\".format(grid_search_l.best_score_))"
   ]
  },
  {
   "cell_type": "code",
   "execution_count": null,
   "metadata": {},
   "outputs": [],
   "source": [
    "grid_search_l.cv_results_"
   ]
  },
  {
   "cell_type": "code",
   "execution_count": null,
   "metadata": {},
   "outputs": [],
   "source": [
    "grid_search_r = GridSearchCV(Ridge(), param_grid={\"alpha\": [1e4, 2e4, 5e4, 1e5]}, scoring=make_scorer(\n",
    "    lambda x, y: np.median(compute_perason_numpy(x, y))), cv=5, n_jobs=5, verbose=1)\n",
    "grid_search_r.fit(X=feat, y=r_frmi)\n",
    "print(\"Best Param: {}\".format(grid_search_r.best_params_))\n",
    "print(\"Best Score: {}\".format(grid_search_r.best_score_))"
   ]
  },
  {
   "cell_type": "code",
   "execution_count": null,
   "metadata": {},
   "outputs": [],
   "source": [
    "grid_search_r.cv_results_"
   ]
  },
  {
   "attachments": {},
   "cell_type": "markdown",
   "metadata": {},
   "source": [
    "### Cross Validate"
   ]
  },
  {
   "cell_type": "code",
   "execution_count": null,
   "metadata": {},
   "outputs": [],
   "source": [
    "from sklearn.model_selection import cross_validate\n",
    "from sklearn.linear_model import Ridge\n",
    "from sklearn.metrics import make_scorer\n",
    "import numpy as np\n",
    "from src.utils import compute_perason_numpy\n",
    "\n",
    "model_l = cross_validate(Ridge(alpha=5e4), X=feat, y=l_frmi, cv=5, n_jobs=5,\n",
    "                         scoring=make_scorer(lambda x, y: np.median(compute_perason_numpy(x, y))), verbose=1)\n",
    "\n",
    "for k, v in model_l.items():\n",
    "    print(\"<{}>:\\t{}\".format(k, \",\\t\".join([\"{:.3f}\".format(x) for x in v])))\n"
   ]
  },
  {
   "cell_type": "code",
   "execution_count": null,
   "metadata": {},
   "outputs": [],
   "source": [
    "model_r = cross_validate(Ridge(alpha=5e4), X=feat, y=r_frmi, cv=5, n_jobs=5,\n",
    "                         scoring=make_scorer(lambda x, y: np.median(compute_perason_numpy(x, y))), verbose=1)\n",
    "\n",
    "for k, v in model_r.items():\n",
    "    print(\"<{}>:\\t{}\".format(k, \",\\t\".join([\"{:.3f}\".format(x) for x in v])))\n"
   ]
  },
  {
   "attachments": {},
   "cell_type": "markdown",
   "metadata": {},
   "source": [
    "### Standard Train/Eval"
   ]
  },
  {
   "cell_type": "code",
   "execution_count": null,
   "metadata": {},
   "outputs": [],
   "source": [
    "from sklearn.linear_model import Ridge, LinearRegression\n",
    "\n",
    "model_l = Ridge(alpha=2e4).fit(X=X_train, y=l_fmri_train)\n",
    "y_pred_l = model_l.predict(X_test)\n",
    "\n",
    "model_r = Ridge(alpha=2e4).fit(X=X_train, y=r_fmri_train)\n",
    "y_pred_r = model_r.predict(X_test)\n"
   ]
  },
  {
   "cell_type": "code",
   "execution_count": null,
   "metadata": {},
   "outputs": [],
   "source": [
    "from src.utils import compute_perason_numpy\n",
    "\n",
    "lh_correlation = compute_perason_numpy(y_pred_l, l_fmri_test)\n",
    "rh_correlation = compute_perason_numpy(y_pred_r, r_fmri_test)"
   ]
  },
  {
   "attachments": {},
   "cell_type": "markdown",
   "metadata": {},
   "source": [
    "## Visualization"
   ]
  },
  {
   "attachments": {},
   "cell_type": "markdown",
   "metadata": {},
   "source": [
    "### Dev Pearson's R"
   ]
  },
  {
   "cell_type": "code",
   "execution_count": null,
   "metadata": {},
   "outputs": [],
   "source": [
    "from src.visualize import histogram, box_plot\n",
    "\n",
    "histogram(DATA_PATH, lh_correlation, rh_correlation,\n",
    "          \"{}, Ridge, {}-{}\".format(SUBJ, EXTRACTOR, \"+\".join(LAYER)))\n"
   ]
  },
  {
   "cell_type": "code",
   "execution_count": null,
   "metadata": {},
   "outputs": [],
   "source": [
    "box_plot(DATA_PATH, lh_correlation, rh_correlation,\n",
    "         \"{}, Ridge, {}-{}\".format(\n",
    "             SUBJ, EXTRACTOR, \"+\".join(LAYER)))\n"
   ]
  },
  {
   "attachments": {},
   "cell_type": "markdown",
   "metadata": {},
   "source": [
    "### Train Pearson's R"
   ]
  },
  {
   "cell_type": "code",
   "execution_count": null,
   "metadata": {},
   "outputs": [],
   "source": [
    "y_pred_l_train = model_l.predict(X_train)\n",
    "y_pred_r_train = model_r.predict(X_train)"
   ]
  },
  {
   "cell_type": "code",
   "execution_count": null,
   "metadata": {},
   "outputs": [],
   "source": [
    "lh_correlation_train = compute_perason_numpy(y_pred_l_train, l_fmri_train)\n",
    "rh_correlation_train = compute_perason_numpy(y_pred_r_train, r_fmri_train)"
   ]
  },
  {
   "cell_type": "code",
   "execution_count": null,
   "metadata": {},
   "outputs": [],
   "source": [
    "histogram(DATA_PATH, lh_correlation_train, rh_correlation_train,\n",
    "          \"{}, Ridge, {}-{}, TRAIN\".format(SUBJ, EXTRACTOR, \"+\".join(LAYER)))\n"
   ]
  },
  {
   "cell_type": "code",
   "execution_count": null,
   "metadata": {},
   "outputs": [],
   "source": [
    "box_plot(DATA_PATH, lh_correlation_train, rh_correlation_train,\n",
    "         \"{}, Ridge, {}-{}, TRAIN\".format(SUBJ, EXTRACTOR, \"+\".join(LAYER)))\n"
   ]
  }
 ],
 "metadata": {
  "kernelspec": {
   "display_name": "algonauts",
   "language": "python",
   "name": "python3"
  },
  "language_info": {
   "codemirror_mode": {
    "name": "ipython",
    "version": 3
   },
   "file_extension": ".py",
   "mimetype": "text/x-python",
   "name": "python",
   "nbconvert_exporter": "python",
   "pygments_lexer": "ipython3",
   "version": "3.9.16"
  },
  "orig_nbformat": 4
 },
 "nbformat": 4,
 "nbformat_minor": 2
}
