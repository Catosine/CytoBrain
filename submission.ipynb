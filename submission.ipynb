{
 "cells": [
  {
   "attachments": {},
   "cell_type": "markdown",
   "metadata": {},
   "source": [
    "# Run for submission"
   ]
  },
  {
   "attachments": {},
   "cell_type": "markdown",
   "metadata": {},
   "source": [
    "## Constant"
   ]
  },
  {
   "cell_type": "code",
   "execution_count": 41,
   "metadata": {},
   "outputs": [],
   "source": [
    "SUBJ = \"subj08\"\n",
    "DATA_PATH = \"../../data.nosync/{}\".format(SUBJ)\n",
    "EXTRACTOR = \"vit-gpt2-image-captioning\"\n",
    "LAYER = [\"decoder-last4-pca-512\", \"decoder-last3-pca-512\", \"decoder-last2-pca-512\", \"decoder-last1-pca-512\"]\n",
    "SAVE_PATH = \"./submission.nosync/ridge_vit-gpt2-image-captioning_last1234_pca_512/{}\".format(SUBJ)"
   ]
  },
  {
   "attachments": {},
   "cell_type": "markdown",
   "metadata": {},
   "source": [
    "## Load Data"
   ]
  },
  {
   "cell_type": "code",
   "execution_count": 42,
   "metadata": {},
   "outputs": [
    {
     "name": "stdout",
     "output_type": "stream",
     "text": [
      "Using fMRI from: ../../data.nosync/subj08/training_split/training_fmri\n",
      "Using data from: ../../data.nosync/subj08/training_split/training_features\n",
      "Feature Shape: (8779, 2048)\n",
      "Left fMRI shape: (8779, 18981)\n",
      "Right fMRI shape: (8779, 20530)\n"
     ]
    }
   ],
   "source": [
    "from sklearn.preprocessing import StandardScaler\n",
    "from src import dataset\n",
    "\n",
    "feat, l_frmi, r_frmi = dataset.get_features(\n",
    "    DATA_PATH, EXTRACTOR, LAYER, True)\n",
    "\n",
    "# normalize\n",
    "feat = StandardScaler().fit_transform(feat)\n",
    "\n",
    "print(\"Feature Shape: {}\".format(feat.shape))\n",
    "print(\"Left fMRI shape: {}\".format(l_frmi.shape))\n",
    "print(\"Right fMRI shape: {}\".format(r_frmi.shape))"
   ]
  },
  {
   "attachments": {},
   "cell_type": "markdown",
   "metadata": {},
   "source": [
    "## Alpha Selection"
   ]
  },
  {
   "cell_type": "code",
   "execution_count": 43,
   "metadata": {},
   "outputs": [
    {
     "name": "stdout",
     "output_type": "stream",
     "text": [
      "Fitting 5 folds for each of 7 candidates, totalling 35 fits\n"
     ]
    },
    {
     "name": "stderr",
     "output_type": "stream",
     "text": [
      "/opt/miniconda3/envs/algonauts/lib/python3.9/site-packages/joblib/externals/loky/process_executor.py:700: UserWarning: A worker stopped while some jobs were given to the executor. This can be caused by a too short worker timeout or by a memory leak.\n",
      "  warnings.warn(\n"
     ]
    },
    {
     "name": "stdout",
     "output_type": "stream",
     "text": [
      "Best Param: {'alpha': 10000000.0}\n",
      "Best Score: 0.2617783186347155\n"
     ]
    }
   ],
   "source": [
    "from sklearn.linear_model import Ridge, LinearRegression as Linear\n",
    "from sklearn.model_selection import GridSearchCV\n",
    "from sklearn.metrics import make_scorer\n",
    "from src.utils import compute_perason_numpy\n",
    "import numpy as np\n",
    "\n",
    "grid_search_l = GridSearchCV(Ridge(), param_grid={\"alpha\": [1e5, 2e5, 5e5, 1e6, 2e6, 5e6, 1e7]}, scoring=make_scorer(\n",
    "    lambda x, y: np.median(compute_perason_numpy(x, y))), cv=5, n_jobs=5, verbose=1)\n",
    "grid_search_l.fit(X=feat, y=l_frmi)\n",
    "\n",
    "print(\"Best Param: {}\".format(grid_search_l.best_params_))\n",
    "print(\"Best Score: {}\".format(grid_search_l.best_score_))"
   ]
  },
  {
   "cell_type": "code",
   "execution_count": 44,
   "metadata": {},
   "outputs": [
    {
     "data": {
      "text/plain": [
       "{'mean_fit_time': array([11.98431983, 20.23769488, 24.87217784, 19.84432549, 19.56627316,\n",
       "        19.45886731, 19.79281044]),\n",
       " 'std_fit_time': array([0.06397782, 0.32832771, 0.24087377, 0.1222267 , 0.12083471,\n",
       "        0.12612005, 0.12453723]),\n",
       " 'mean_score_time': array([13.10127616, 17.21644139, 16.81160378, 15.68842735, 15.49573183,\n",
       "        15.64900746, 15.54087577]),\n",
       " 'std_score_time': array([0.01852029, 0.11764717, 0.43300594, 0.15722604, 0.14220232,\n",
       "        0.15078244, 0.56660592]),\n",
       " 'param_alpha': masked_array(data=[100000.0, 200000.0, 500000.0, 1000000.0, 2000000.0,\n",
       "                    5000000.0, 10000000.0],\n",
       "              mask=[False, False, False, False, False, False, False],\n",
       "        fill_value='?',\n",
       "             dtype=object),\n",
       " 'params': [{'alpha': 100000.0},\n",
       "  {'alpha': 200000.0},\n",
       "  {'alpha': 500000.0},\n",
       "  {'alpha': 1000000.0},\n",
       "  {'alpha': 2000000.0},\n",
       "  {'alpha': 5000000.0},\n",
       "  {'alpha': 10000000.0}],\n",
       " 'split0_test_score': array([0.25203889, 0.25362818, 0.25458044, 0.25495555, 0.2551468 ,\n",
       "        0.25526278, 0.25530163]),\n",
       " 'split1_test_score': array([0.26526074, 0.26677481, 0.26777642, 0.2680306 , 0.26820542,\n",
       "        0.2683194 , 0.26835735]),\n",
       " 'split2_test_score': array([0.25981052, 0.26141243, 0.26229649, 0.26259488, 0.26275837,\n",
       "        0.262883  , 0.26291762]),\n",
       " 'split3_test_score': array([0.25801995, 0.25951971, 0.26060755, 0.26089643, 0.26104102,\n",
       "        0.26113998, 0.26117977]),\n",
       " 'split4_test_score': array([0.25797371, 0.25936151, 0.26045397, 0.26082229, 0.26099571,\n",
       "        0.26113264, 0.26113523]),\n",
       " 'mean_test_score': array([0.25862076, 0.26013933, 0.26114297, 0.26145995, 0.26162946,\n",
       "        0.26174756, 0.26177832]),\n",
       " 'std_test_score': array([0.00423333, 0.00421982, 0.00422283, 0.00418313, 0.00417829,\n",
       "        0.00417799, 0.00417854]),\n",
       " 'rank_test_score': array([7, 6, 5, 4, 3, 2, 1], dtype=int32)}"
      ]
     },
     "execution_count": 44,
     "metadata": {},
     "output_type": "execute_result"
    }
   ],
   "source": [
    "grid_search_l.cv_results_"
   ]
  },
  {
   "cell_type": "code",
   "execution_count": 45,
   "metadata": {},
   "outputs": [
    {
     "name": "stdout",
     "output_type": "stream",
     "text": [
      "Fitting 5 folds for each of 7 candidates, totalling 35 fits\n",
      "Best Param: {'alpha': 10000000.0}\n",
      "Best Score: 0.2650124395278021\n"
     ]
    }
   ],
   "source": [
    "grid_search_r = GridSearchCV(Ridge(), param_grid={\"alpha\": [1e5, 2e5, 5e5, 1e6, 2e6, 5e6, 1e7]}, scoring=make_scorer(\n",
    "    lambda x, y: np.median(compute_perason_numpy(x, y))), cv=5, n_jobs=5, verbose=1)\n",
    "grid_search_r.fit(X=feat, y=r_frmi)\n",
    "\n",
    "print(\"Best Param: {}\".format(grid_search_r.best_params_))\n",
    "print(\"Best Score: {}\".format(grid_search_r.best_score_))"
   ]
  },
  {
   "cell_type": "code",
   "execution_count": 46,
   "metadata": {},
   "outputs": [
    {
     "data": {
      "text/plain": [
       "{'mean_fit_time': array([21.8956418 , 22.81348033, 22.52295933, 21.84492574, 20.83361702,\n",
       "        35.86053305, 35.38794436]),\n",
       " 'std_fit_time': array([0.04153754, 0.01148521, 0.01281831, 0.04212305, 0.02190151,\n",
       "        0.14818029, 0.09269443]),\n",
       " 'mean_score_time': array([17.838237  , 21.84109478, 17.26934905, 17.04161086, 21.40584178,\n",
       "        26.7802515 , 21.01015644]),\n",
       " 'std_score_time': array([0.02747907, 0.12125869, 0.04329248, 0.02899679, 0.13980138,\n",
       "        0.10735089, 0.07776297]),\n",
       " 'param_alpha': masked_array(data=[100000.0, 200000.0, 500000.0, 1000000.0, 2000000.0,\n",
       "                    5000000.0, 10000000.0],\n",
       "              mask=[False, False, False, False, False, False, False],\n",
       "        fill_value='?',\n",
       "             dtype=object),\n",
       " 'params': [{'alpha': 100000.0},\n",
       "  {'alpha': 200000.0},\n",
       "  {'alpha': 500000.0},\n",
       "  {'alpha': 1000000.0},\n",
       "  {'alpha': 2000000.0},\n",
       "  {'alpha': 5000000.0},\n",
       "  {'alpha': 10000000.0}],\n",
       " 'split0_test_score': array([0.25309874, 0.25454403, 0.25549577, 0.25577936, 0.25593413,\n",
       "        0.25605608, 0.25608399]),\n",
       " 'split1_test_score': array([0.27083471, 0.27231221, 0.27325354, 0.27353475, 0.27367708,\n",
       "        0.27376005, 0.27378667]),\n",
       " 'split2_test_score': array([0.26679328, 0.26808655, 0.26900288, 0.26933103, 0.26946377,\n",
       "        0.26954049, 0.26957829]),\n",
       " 'split3_test_score': array([0.26268888, 0.26413662, 0.26509054, 0.26533879, 0.26543398,\n",
       "        0.26552167, 0.26554943]),\n",
       " 'split4_test_score': array([0.25685716, 0.25842049, 0.25939042, 0.25976823, 0.25989497,\n",
       "        0.2600196 , 0.26006382]),\n",
       " 'mean_test_score': array([0.26205456, 0.26349998, 0.26444663, 0.26475043, 0.26488079,\n",
       "        0.26497958, 0.26501244]),\n",
       " 'std_test_score': array([0.0064369 , 0.0064048 , 0.00639404, 0.00638427, 0.006381  ,\n",
       "        0.00636274, 0.00636127]),\n",
       " 'rank_test_score': array([7, 6, 5, 4, 3, 2, 1], dtype=int32)}"
      ]
     },
     "execution_count": 46,
     "metadata": {},
     "output_type": "execute_result"
    }
   ],
   "source": [
    "grid_search_r.cv_results_"
   ]
  },
  {
   "attachments": {},
   "cell_type": "markdown",
   "metadata": {},
   "source": [
    "## Training"
   ]
  },
  {
   "cell_type": "code",
   "execution_count": 47,
   "metadata": {},
   "outputs": [],
   "source": [
    "model_left = Ridge(alpha=grid_search_l.best_params_[\"alpha\"]).fit(X=feat, y=l_frmi)\n",
    "model_right = Ridge(alpha=grid_search_r.best_params_[\"alpha\"]).fit(X=feat, y=r_frmi)"
   ]
  },
  {
   "attachments": {},
   "cell_type": "markdown",
   "metadata": {},
   "source": [
    "## Prediction"
   ]
  },
  {
   "attachments": {},
   "cell_type": "markdown",
   "metadata": {},
   "source": [
    "### Load test data"
   ]
  },
  {
   "cell_type": "code",
   "execution_count": 48,
   "metadata": {},
   "outputs": [
    {
     "name": "stdout",
     "output_type": "stream",
     "text": [
      "Using data from: ../../data.nosync/subj08/test_split/test_features\n",
      "Test Feature Shape: (395, 2048)\n"
     ]
    }
   ],
   "source": [
    "test_feat, _, _ = dataset.get_features(\n",
    "    DATA_PATH, EXTRACTOR, LAYER, False)\n",
    "\n",
    "# normalize\n",
    "test_feat = StandardScaler().fit_transform(test_feat)\n",
    "\n",
    "print(\"Test Feature Shape: {}\".format(test_feat.shape))"
   ]
  },
  {
   "attachments": {},
   "cell_type": "markdown",
   "metadata": {},
   "source": [
    "### Predict"
   ]
  },
  {
   "cell_type": "code",
   "execution_count": 49,
   "metadata": {},
   "outputs": [],
   "source": [
    "l_fmri_pred = model_left.predict(test_feat)\n",
    "r_fmri_pred = model_right.predict(test_feat)"
   ]
  },
  {
   "attachments": {},
   "cell_type": "markdown",
   "metadata": {},
   "source": [
    "## Save"
   ]
  },
  {
   "cell_type": "code",
   "execution_count": 50,
   "metadata": {},
   "outputs": [],
   "source": [
    "import os\n",
    "import numpy as np\n",
    "\n",
    "if not os.path.isdir(SAVE_PATH):\n",
    "    os.makedirs(SAVE_PATH)\n",
    "\n",
    "l_fmri_pred = l_fmri_pred.astype(np.float32)\n",
    "r_fmri_pred = r_fmri_pred.astype(np.float32)\n",
    "\n",
    "np.save(os.path.join(SAVE_PATH, 'lh_pred_test.npy'), l_fmri_pred)\n",
    "np.save(os.path.join(SAVE_PATH, 'rh_pred_test.npy'), r_fmri_pred)"
   ]
  }
 ],
 "metadata": {
  "kernelspec": {
   "display_name": "algonauts",
   "language": "python",
   "name": "python3"
  },
  "language_info": {
   "codemirror_mode": {
    "name": "ipython",
    "version": 3
   },
   "file_extension": ".py",
   "mimetype": "text/x-python",
   "name": "python",
   "nbconvert_exporter": "python",
   "pygments_lexer": "ipython3",
   "version": "3.9.16"
  },
  "orig_nbformat": 4
 },
 "nbformat": 4,
 "nbformat_minor": 2
}
