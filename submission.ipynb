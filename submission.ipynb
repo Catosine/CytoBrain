{
 "cells": [
  {
   "attachments": {},
   "cell_type": "markdown",
   "metadata": {},
   "source": [
    "# Run for submission"
   ]
  },
  {
   "attachments": {},
   "cell_type": "markdown",
   "metadata": {},
   "source": [
    "## Constant"
   ]
  },
  {
   "cell_type": "code",
   "execution_count": 72,
   "metadata": {},
   "outputs": [],
   "source": [
    "SUBJ = \"subj08\"\n",
    "DATA_PATH = \"../../data.nosync/{}\".format(SUBJ)\n",
    "EXTRACTOR = \"vit-gpt2-image-captioning\"\n",
    "LAYER = [\"encoder-last4-pca-512\", \"decoder-last4-pca-512\", \"encoder-last3-pca-512\", \"decoder-last3-pca-512\", \"encoder-last2-pca-512\", \"decoder-last2-pca-512\", \"encoder-last1-pca-512\", \"decoder-last1-pca-512\"]\n",
    "SAVE_PATH = \"./submission.nosync/ridge_vit-gpt2-image-captioning_encoder+decoder_last1234_pca_512/{}\".format(SUBJ)"
   ]
  },
  {
   "attachments": {},
   "cell_type": "markdown",
   "metadata": {},
   "source": [
    "## Load Data"
   ]
  },
  {
   "cell_type": "code",
   "execution_count": 73,
   "metadata": {},
   "outputs": [
    {
     "name": "stdout",
     "output_type": "stream",
     "text": [
      "Using fMRI from: ../../data.nosync/subj08/training_split/training_fmri\n",
      "Using data from: ../../data.nosync/subj08/training_split/training_features\n",
      "Feature Shape: (8779, 4096)\n",
      "Left fMRI shape: (8779, 18981)\n",
      "Right fMRI shape: (8779, 20530)\n"
     ]
    }
   ],
   "source": [
    "from sklearn.preprocessing import StandardScaler\n",
    "from src import dataset\n",
    "\n",
    "feat, l_frmi, r_frmi = dataset.get_features(\n",
    "    DATA_PATH, EXTRACTOR, LAYER, True)\n",
    "\n",
    "# normalize\n",
    "feat = StandardScaler().fit_transform(feat)\n",
    "\n",
    "print(\"Feature Shape: {}\".format(feat.shape))\n",
    "print(\"Left fMRI shape: {}\".format(l_frmi.shape))\n",
    "print(\"Right fMRI shape: {}\".format(r_frmi.shape))"
   ]
  },
  {
   "attachments": {},
   "cell_type": "markdown",
   "metadata": {},
   "source": [
    "## Alpha Selection"
   ]
  },
  {
   "cell_type": "code",
   "execution_count": 74,
   "metadata": {},
   "outputs": [],
   "source": [
    "from sklearn.linear_model import Ridge\n",
    "from sklearn.model_selection import GridSearchCV\n",
    "from sklearn.metrics import make_scorer\n",
    "from src.utils import compute_perason_numpy\n",
    "import numpy as np\n",
    "\n",
    "# grid_search_l = GridSearchCV(Ridge(), param_grid={\"alpha\": [1e5, 2e5, 5e5, 1e6, 2e6, 5e6, 1e7]}, scoring=make_scorer(\n",
    "#     lambda x, y: np.median(compute_perason_numpy(x, y))), cv=5, n_jobs=5, verbose=1)\n",
    "# grid_search_l.fit(X=feat, y=l_frmi)\n",
    "\n",
    "# print(\"Best Param: {}\".format(grid_search_l.best_params_))\n",
    "# print(\"Best Score: {}\".format(grid_search_l.best_score_))"
   ]
  },
  {
   "cell_type": "code",
   "execution_count": 75,
   "metadata": {},
   "outputs": [],
   "source": [
    "# grid_search_l.cv_results_"
   ]
  },
  {
   "cell_type": "code",
   "execution_count": 76,
   "metadata": {},
   "outputs": [],
   "source": [
    "# grid_search_r = GridSearchCV(Ridge(), param_grid={\"alpha\": [1e5, 2e5, 5e5, 1e6, 2e6, 5e6, 1e7]}, scoring=make_scorer(\n",
    "#     lambda x, y: np.median(compute_perason_numpy(x, y))), cv=5, n_jobs=5, verbose=1)\n",
    "# grid_search_r.fit(X=feat, y=r_frmi)\n",
    "\n",
    "# print(\"Best Param: {}\".format(grid_search_r.best_params_))\n",
    "# print(\"Best Score: {}\".format(grid_search_r.best_score_))"
   ]
  },
  {
   "cell_type": "code",
   "execution_count": 77,
   "metadata": {},
   "outputs": [],
   "source": [
    "# grid_search_r.cv_results_"
   ]
  },
  {
   "attachments": {},
   "cell_type": "markdown",
   "metadata": {},
   "source": [
    "## Training"
   ]
  },
  {
   "cell_type": "code",
   "execution_count": 78,
   "metadata": {},
   "outputs": [],
   "source": [
    "# model_left = Ridge(alpha=grid_search_l.best_params_[\"alpha\"]).fit(X=feat, y=l_frmi)\n",
    "# model_right = Ridge(alpha=grid_search_r.best_params_[\"alpha\"]).fit(X=feat, y=r_frmi)\n",
    "model_left = Ridge(alpha=2e6).fit(X=feat, y=l_frmi)\n",
    "model_right = Ridge(alpha=2e6).fit(X=feat, y=r_frmi)"
   ]
  },
  {
   "attachments": {},
   "cell_type": "markdown",
   "metadata": {},
   "source": [
    "## Prediction"
   ]
  },
  {
   "attachments": {},
   "cell_type": "markdown",
   "metadata": {},
   "source": [
    "### Load test data"
   ]
  },
  {
   "cell_type": "code",
   "execution_count": 79,
   "metadata": {},
   "outputs": [
    {
     "name": "stdout",
     "output_type": "stream",
     "text": [
      "Using data from: ../../data.nosync/subj08/test_split/test_features\n",
      "Test Feature Shape: (395, 4096)\n"
     ]
    }
   ],
   "source": [
    "test_feat, _, _ = dataset.get_features(\n",
    "    DATA_PATH, EXTRACTOR, LAYER, False)\n",
    "\n",
    "# normalize\n",
    "test_feat = StandardScaler().fit_transform(test_feat)\n",
    "\n",
    "print(\"Test Feature Shape: {}\".format(test_feat.shape))"
   ]
  },
  {
   "attachments": {},
   "cell_type": "markdown",
   "metadata": {},
   "source": [
    "### Predict"
   ]
  },
  {
   "cell_type": "code",
   "execution_count": 80,
   "metadata": {},
   "outputs": [],
   "source": [
    "l_fmri_pred = model_left.predict(test_feat)\n",
    "r_fmri_pred = model_right.predict(test_feat)"
   ]
  },
  {
   "attachments": {},
   "cell_type": "markdown",
   "metadata": {},
   "source": [
    "## Save"
   ]
  },
  {
   "cell_type": "code",
   "execution_count": 81,
   "metadata": {},
   "outputs": [],
   "source": [
    "import os\n",
    "import numpy as np\n",
    "\n",
    "if not os.path.isdir(SAVE_PATH):\n",
    "    os.makedirs(SAVE_PATH)\n",
    "\n",
    "l_fmri_pred = l_fmri_pred.astype(np.float32)\n",
    "r_fmri_pred = r_fmri_pred.astype(np.float32)\n",
    "\n",
    "np.save(os.path.join(SAVE_PATH, 'lh_pred_test.npy'), l_fmri_pred)\n",
    "np.save(os.path.join(SAVE_PATH, 'rh_pred_test.npy'), r_fmri_pred)"
   ]
  }
 ],
 "metadata": {
  "kernelspec": {
   "display_name": "algonauts",
   "language": "python",
   "name": "python3"
  },
  "language_info": {
   "codemirror_mode": {
    "name": "ipython",
    "version": 3
   },
   "file_extension": ".py",
   "mimetype": "text/x-python",
   "name": "python",
   "nbconvert_exporter": "python",
   "pygments_lexer": "ipython3",
   "version": "3.9.16"
  },
  "orig_nbformat": 4
 },
 "nbformat": 4,
 "nbformat_minor": 2
}
