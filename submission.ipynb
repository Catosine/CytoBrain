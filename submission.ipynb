{
 "cells": [
  {
   "attachments": {},
   "cell_type": "markdown",
   "metadata": {},
   "source": [
    "# Run for submission"
   ]
  },
  {
   "attachments": {},
   "cell_type": "markdown",
   "metadata": {},
   "source": [
    "## Constant"
   ]
  },
  {
   "cell_type": "code",
   "execution_count": 55,
   "metadata": {},
   "outputs": [],
   "source": [
    "SUBJ = \"subj08\"\n",
    "DATA_PATH = \"../../data.nosync/{}\".format(SUBJ)\n",
    "EXTRACTOR = \"resnet50-imagenet1k-v2\"\n",
    "LAYER = [\"layer3\", \"avgpool\"]\n",
    "SAVE_PATH = \"./submission.nosync/ridge_resnet50_layer3+avgpool/{}\".format(SUBJ)\n",
    "ALPHA = 1e4"
   ]
  },
  {
   "attachments": {},
   "cell_type": "markdown",
   "metadata": {},
   "source": [
    "## Load Data"
   ]
  },
  {
   "cell_type": "code",
   "execution_count": 56,
   "metadata": {},
   "outputs": [
    {
     "name": "stdout",
     "output_type": "stream",
     "text": [
      "Using fMRI from: ../../data.nosync/subj08/training_split/training_fmri\n",
      "Using data from: ../../data.nosync/subj08/training_split/training_features\n",
      "Feature Shape: (8779, 3072)\n",
      "Left fMRI shape: (8779, 18981)\n",
      "Right fMRI shape: (8779, 20530)\n"
     ]
    }
   ],
   "source": [
    "from sklearn.preprocessing import StandardScaler\n",
    "from src import dataset\n",
    "\n",
    "feat, l_frmi, r_frmi = dataset.get_features(\n",
    "    DATA_PATH, EXTRACTOR, LAYER, True)\n",
    "\n",
    "# normalize\n",
    "feat = StandardScaler().fit_transform(feat)\n",
    "\n",
    "print(\"Feature Shape: {}\".format(feat.shape))\n",
    "print(\"Left fMRI shape: {}\".format(l_frmi.shape))\n",
    "print(\"Right fMRI shape: {}\".format(r_frmi.shape))"
   ]
  },
  {
   "attachments": {},
   "cell_type": "markdown",
   "metadata": {},
   "source": [
    "## Train model"
   ]
  },
  {
   "cell_type": "code",
   "execution_count": 57,
   "metadata": {},
   "outputs": [
    {
     "name": "stderr",
     "output_type": "stream",
     "text": [
      "[Parallel(n_jobs=5)]: Using backend LokyBackend with 5 concurrent workers.\n",
      "[Parallel(n_jobs=5)]: Done   2 out of   5 | elapsed:   44.5s remaining:  1.1min\n"
     ]
    },
    {
     "name": "stdout",
     "output_type": "stream",
     "text": [
      "<fit_time>:\t20.021,\t19.946,\t20.204,\t20.025,\t20.073\n",
      "<score_time>:\t23.556,\t23.668,\t23.403,\t23.435,\t23.376\n",
      "<test_median pearson>:\t0.241,\t0.252,\t0.249,\t0.247,\t0.250\n",
      "<test_mean pearson>:\t0.251,\t0.255,\t0.254,\t0.252,\t0.255\n"
     ]
    },
    {
     "name": "stderr",
     "output_type": "stream",
     "text": [
      "[Parallel(n_jobs=5)]: Done   5 out of   5 | elapsed:   45.4s finished\n"
     ]
    }
   ],
   "source": [
    "from sklearn.linear_model import Ridge, LinearRegression as Linear\n",
    "from sklearn.model_selection import cross_validate\n",
    "from sklearn.metrics import make_scorer\n",
    "from src.utils import compute_perason_numpy\n",
    "import numpy as np\n",
    "\n",
    "scorer = {\n",
    "    \"median pearson\": make_scorer(lambda x, y: np.median(compute_perason_numpy(x, y))),\n",
    "    \"mean pearson\": make_scorer(lambda x, y: np.mean(compute_perason_numpy(x, y)))\n",
    "}\n",
    "\n",
    "results_left = cross_validate(Ridge(ALPHA), X=feat, y=l_frmi, cv=5, n_jobs=5, return_estimator=True,\n",
    "                         scoring=scorer, verbose=1)\n",
    "\n",
    "for k, v in results_left.items():\n",
    "    if k != \"estimator\":\n",
    "        print(\"<{}>:\\t{}\".format(k, \",\\t\".join([\"{:.3f}\".format(x) for x in v])))\n"
   ]
  },
  {
   "cell_type": "code",
   "execution_count": 58,
   "metadata": {},
   "outputs": [],
   "source": [
    "model_left = results_left[\"estimator\"][1]"
   ]
  },
  {
   "cell_type": "code",
   "execution_count": 59,
   "metadata": {},
   "outputs": [
    {
     "name": "stderr",
     "output_type": "stream",
     "text": [
      "[Parallel(n_jobs=5)]: Using backend LokyBackend with 5 concurrent workers.\n",
      "[Parallel(n_jobs=5)]: Done   2 out of   5 | elapsed:  1.1min remaining:  1.7min\n"
     ]
    },
    {
     "name": "stdout",
     "output_type": "stream",
     "text": [
      "<fit_time>:\t34.343,\t33.976,\t32.665,\t32.747,\t34.245\n",
      "<score_time>:\t31.253,\t31.398,\t32.055,\t31.943,\t30.627\n",
      "<test_median pearson>:\t0.242,\t0.255,\t0.252,\t0.248,\t0.248\n",
      "<test_mean pearson>:\t0.253,\t0.260,\t0.261,\t0.256,\t0.261\n"
     ]
    },
    {
     "name": "stderr",
     "output_type": "stream",
     "text": [
      "[Parallel(n_jobs=5)]: Done   5 out of   5 | elapsed:  1.1min finished\n"
     ]
    }
   ],
   "source": [
    "results_right = cross_validate(Ridge(ALPHA), X=feat, y=r_frmi, cv=5, n_jobs=5, return_estimator=True,\n",
    "                         scoring=scorer, verbose=1)\n",
    "\n",
    "for k, v in results_right.items():\n",
    "    if k != \"estimator\":\n",
    "        print(\"<{}>:\\t{}\".format(k, \",\\t\".join([\"{:.3f}\".format(x) for x in v])))\n"
   ]
  },
  {
   "cell_type": "code",
   "execution_count": 60,
   "metadata": {},
   "outputs": [],
   "source": [
    "model_right = results_right[\"estimator\"][1]"
   ]
  },
  {
   "attachments": {},
   "cell_type": "markdown",
   "metadata": {},
   "source": [
    "## Prediction"
   ]
  },
  {
   "attachments": {},
   "cell_type": "markdown",
   "metadata": {},
   "source": [
    "### Load test data"
   ]
  },
  {
   "cell_type": "code",
   "execution_count": 61,
   "metadata": {},
   "outputs": [
    {
     "name": "stdout",
     "output_type": "stream",
     "text": [
      "Using data from: ../../data.nosync/subj08/test_split/test_features\n",
      "Test Feature Shape: (395, 3072)\n"
     ]
    }
   ],
   "source": [
    "test_feat, _, _ = dataset.get_features(\n",
    "    DATA_PATH, EXTRACTOR, LAYER, False)\n",
    "\n",
    "# normalize\n",
    "test_feat = StandardScaler().fit_transform(test_feat)\n",
    "\n",
    "print(\"Test Feature Shape: {}\".format(test_feat.shape))"
   ]
  },
  {
   "attachments": {},
   "cell_type": "markdown",
   "metadata": {},
   "source": [
    "### Predict"
   ]
  },
  {
   "cell_type": "code",
   "execution_count": 53,
   "metadata": {},
   "outputs": [],
   "source": [
    "l_fmri_pred = model_left.predict(test_feat)\n",
    "r_fmri_pred = model_right.predict(test_feat)"
   ]
  },
  {
   "attachments": {},
   "cell_type": "markdown",
   "metadata": {},
   "source": [
    "## Save"
   ]
  },
  {
   "cell_type": "code",
   "execution_count": 54,
   "metadata": {},
   "outputs": [],
   "source": [
    "import os\n",
    "import numpy as np\n",
    "\n",
    "if not os.path.isdir(SAVE_PATH):\n",
    "    os.makedirs(SAVE_PATH)\n",
    "\n",
    "l_fmri_pred = l_fmri_pred.astype(np.float32)\n",
    "r_fmri_pred = r_fmri_pred.astype(np.float32)\n",
    "\n",
    "np.save(os.path.join(SAVE_PATH, 'lh_pred_test.npy'), l_fmri_pred)\n",
    "np.save(os.path.join(SAVE_PATH, 'rh_pred_test.npy'), r_fmri_pred)"
   ]
  }
 ],
 "metadata": {
  "kernelspec": {
   "display_name": "algonauts",
   "language": "python",
   "name": "python3"
  },
  "language_info": {
   "codemirror_mode": {
    "name": "ipython",
    "version": 3
   },
   "file_extension": ".py",
   "mimetype": "text/x-python",
   "name": "python",
   "nbconvert_exporter": "python",
   "pygments_lexer": "ipython3",
   "version": "3.9.16"
  },
  "orig_nbformat": 4
 },
 "nbformat": 4,
 "nbformat_minor": 2
}
